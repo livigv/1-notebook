{
 "cells": [
  {
   "cell_type": "markdown",
   "id": "8a4b98b8",
   "metadata": {},
   "source": [
    "# Data Science Tools and Ecosystem "
   ]
  },
  {
   "cell_type": "markdown",
   "id": "fe7b5508",
   "metadata": {},
   "source": [
    "## In this notebook, Data Science Tools and Ecosystem are summarized."
   ]
  },
  {
   "cell_type": "markdown",
   "id": "c9050c57",
   "metadata": {},
   "source": [
    "# Some of the popular languages that Data Scientists use are:\n",
    "1. R\n",
    "2. Python\n",
    "3. Java\n",
    "\n",
    "## Some of the commonly used libraries used by Data Scientists and IDK why i need to do another list but fine are:\n",
    "1. sklean\n",
    "2. TensorFlow\n",
    "3. Numpy"
   ]
  },
  {
   "cell_type": "markdown",
   "id": "2a822d8e",
   "metadata": {},
   "source": [
    "| Data Science Tools|  \n",
    "| -------------|\n",
    "| VsCode |\n",
    "| Rstudio | \n",
    "| Jupyter |\n"
   ]
  },
  {
   "cell_type": "markdown",
   "id": "31a2644d",
   "metadata": {},
   "source": [
    "### Below are a few examples of evaluating arithmetic expressions in Python"
   ]
  },
  {
   "cell_type": "code",
   "execution_count": 6,
   "id": "acd384b5",
   "metadata": {},
   "outputs": [
    {
     "data": {
      "text/plain": [
       "17"
      ]
     },
     "execution_count": 6,
     "metadata": {},
     "output_type": "execute_result"
    }
   ],
   "source": [
    "(3*4)+5\n",
    "#This a simple arithmetic expression to mutiply then add integers."
   ]
  },
  {
   "cell_type": "code",
   "execution_count": 7,
   "id": "7de45a57",
   "metadata": {},
   "outputs": [
    {
     "data": {
      "text/plain": [
       "3.3333333333333335"
      ]
     },
     "execution_count": 7,
     "metadata": {},
     "output_type": "execute_result"
    }
   ],
   "source": [
    "#his will convert 200 minutes to hours by diving by 60\n",
    "200/60 \n"
   ]
  },
  {
   "cell_type": "markdown",
   "id": "66b4dda3",
   "metadata": {},
   "source": [
    "### ***Objectives:***\n",
    "\n",
    "- List popular languages for data science.\n",
    "- List popular tools for data science.\n",
    "- Learning how to use Jupyter Notebooks."
   ]
  },
  {
   "cell_type": "markdown",
   "id": "8fc24ffc",
   "metadata": {},
   "source": [
    "## Author\n",
    "Livier Gámez"
   ]
  },
  {
   "cell_type": "code",
   "execution_count": null,
   "id": "fe8134dd",
   "metadata": {},
   "outputs": [],
   "source": []
  }
 ],
 "metadata": {
  "kernelspec": {
   "display_name": "Python 3 (ipykernel)",
   "language": "python",
   "name": "python3"
  },
  "language_info": {
   "codemirror_mode": {
    "name": "ipython",
    "version": 3
   },
   "file_extension": ".py",
   "mimetype": "text/x-python",
   "name": "python",
   "nbconvert_exporter": "python",
   "pygments_lexer": "ipython3",
   "version": "3.9.12"
  }
 },
 "nbformat": 4,
 "nbformat_minor": 5
}
